{
 "cells": [
  {
   "cell_type": "markdown",
   "metadata": {
    "id": "VxorV5ADJfIu"
   },
   "source": [
    "## Tiền xử lý dữ liệu tiếng Việt"
   ]
  },
  {
   "cell_type": "code",
   "execution_count": 8,
   "metadata": {
    "id": "F2HFWqeheTQH"
   },
   "outputs": [],
   "source": [
    "# Có thể dùng thư viện underthesea hoặc bất cứ thư viện xử lý tiếng Việt nào khác"
   ]
  },
  {
   "cell_type": "code",
   "execution_count": 9,
   "metadata": {
    "id": "eG1CUO_Yyr6t"
   },
   "outputs": [],
   "source": [
    "import pandas as pd\n",
    "import numpy as np\n",
    "from underthesea import word_tokenize, pos_tag, sent_tokenize\n",
    "import regex\n",
    "import string"
   ]
  },
  {
   "cell_type": "code",
   "execution_count": 10,
   "metadata": {
    "id": "CofhEKVtyr6x"
   },
   "outputs": [],
   "source": [
    "# https://underthesea.readthedocs.io/en/v1.1.5/readme.html\n",
    "# https://github.com/undertheseanlp/underthesea"
   ]
  },
  {
   "cell_type": "code",
   "execution_count": 11,
   "metadata": {
    "id": "kh8pRQOXyr6y"
   },
   "outputs": [],
   "source": [
    "#LOAD EMOJICON\n",
    "file = open('files/emojicon.txt', 'r', encoding=\"utf8\")\n",
    "emoji_lst = file.read().split('\\n')\n",
    "emoji_dict = {}\n",
    "for line in emoji_lst:\n",
    "    key, value = line.split('\\t')\n",
    "    emoji_dict[key] = str(value)\n",
    "file.close()\n",
    "#################\n",
    "#LOAD TEENCODE\n",
    "file = open('files/teencode.txt', 'r', encoding=\"utf8\")\n",
    "teen_lst = file.read().split('\\n')\n",
    "teen_dict = {}\n",
    "for line in teen_lst:\n",
    "    key, value = line.split('\\t')\n",
    "    teen_dict[key] = str(value)\n",
    "file.close()\n",
    "###############\n",
    "#LOAD TRANSLATE ENGLISH -> VNMESE\n",
    "file = open('files/english-vnmese.txt', 'r', encoding=\"utf8\")\n",
    "english_lst = file.read().split('\\n')\n",
    "english_dict = {}\n",
    "for line in english_lst:\n",
    "    key, value = line.split('\\t')\n",
    "    english_dict[key] = str(value)\n",
    "file.close()\n",
    "################\n",
    "#LOAD wrong words\n",
    "file = open('files/wrong-word.txt', 'r', encoding=\"utf8\")\n",
    "wrong_lst = file.read().split('\\n')\n",
    "file.close()\n",
    "#################\n",
    "#LOAD STOPWORDS\n",
    "file = open('files/vietnamese-stopwords.txt', 'r', encoding=\"utf8\")\n",
    "stopwords_lst = file.read().split('\\n')\n",
    "file.close()"
   ]
  },
  {
   "cell_type": "code",
   "execution_count": 12,
   "metadata": {
    "id": "5P38CCWpyr6y"
   },
   "outputs": [],
   "source": [
    "def process_text(text, emoji_dict, teen_dict, wrong_lst):\n",
    "    document = text.lower()\n",
    "    document = document.replace(\"’\",'')\n",
    "    document = regex.sub(r'\\.+', \".\", document)\n",
    "    new_sentence =''\n",
    "    for sentence in sent_tokenize(document):\n",
    "        # if not(sentence.isascii()):\n",
    "        ###### CONVERT EMOJICON\n",
    "        sentence = ''.join(emoji_dict[word]+' ' if word in emoji_dict else word for word in list(sentence))\n",
    "        ###### CONVERT TEENCODE\n",
    "        sentence = ' '.join(teen_dict[word] if word in teen_dict else word for word in sentence.split())\n",
    "        ###### DEL Punctuation & Numbers\n",
    "        pattern = r'(?i)\\b[a-záàảãạăắằẳẵặâấầẩẫậéèẻẽẹêếềểễệóòỏõọôốồổỗộơớờởỡợíìỉĩịúùủũụưứừửữựýỳỷỹỵđ]+\\b'\n",
    "        sentence = ' '.join(regex.findall(pattern,sentence))\n",
    "        # ...\n",
    "        ###### DEL wrong words\n",
    "        sentence = ' '.join('' if word in wrong_lst else word for word in sentence.split())\n",
    "        new_sentence = new_sentence+ sentence + '. '\n",
    "    document = new_sentence\n",
    "    #print(document)\n",
    "    ###### DEL excess blank space\n",
    "    document = regex.sub(r'\\s+', ' ', document).strip()\n",
    "    #...\n",
    "    return document"
   ]
  },
  {
   "cell_type": "code",
   "execution_count": 13,
   "metadata": {
    "id": "BJe6wMxhyr6z"
   },
   "outputs": [],
   "source": [
    "example = '''Sp dầu gội này thật sự kém chất lượng 😤. Mùi hương ko dễ chịu như quảng cáo, còn gây khô tóc nữa. Chánnnnn. Mình dùng đc vài lần là thấy tóc xơ, mất nếp, sẽ ko mua lại! ☹️'''"
   ]
  },
  {
   "cell_type": "code",
   "execution_count": 14,
   "metadata": {
    "colab": {
     "base_uri": "https://localhost:8080/"
    },
    "id": "JZXPaEBrkkmn",
    "outputId": "40049017-4c8b-481c-fb1c-58f1aea1f210"
   },
   "outputs": [
    {
     "name": "stdout",
     "output_type": "stream",
     "text": [
      "Sp dầu gội này thật sự kém chất lượng 😤. Mùi hương ko dễ chịu như quảng cáo, còn gây khô tóc nữa. Chánnnnn. Mình dùng đc vài lần là thấy tóc xơ, mất nếp, sẽ ko mua lại! ☹️\n"
     ]
    }
   ],
   "source": [
    "print(example)"
   ]
  },
  {
   "cell_type": "code",
   "execution_count": 15,
   "metadata": {
    "colab": {
     "base_uri": "https://localhost:8080/",
     "height": 35
    },
    "id": "6RC9CVuEyr6z",
    "outputId": "24f2a8b3-89b6-4fd1-e7c3-d1c5d91c4908"
   },
   "outputs": [
    {
     "data": {
      "text/plain": [
       "'sản phẩm dầu gội này thật sự kém chất lượng tức. mùi hương không dễ chịu như quảng cáo còn gây khô tóc nữa. chánnnnn. mình dùng được vài lần là thấy tóc xơ mất nếp sẽ không lại. buồn.'"
      ]
     },
     "execution_count": 15,
     "metadata": {},
     "output_type": "execute_result"
    }
   ],
   "source": [
    "document = process_text(example, emoji_dict, teen_dict, wrong_lst)\n",
    "document"
   ]
  },
  {
   "cell_type": "code",
   "execution_count": 16,
   "metadata": {
    "id": "Wums9sysyr60"
   },
   "outputs": [],
   "source": [
    "# Chuẩn hóa unicode tiếng việt\n",
    "def loaddicchar():\n",
    "    uniChars = \"àáảãạâầấẩẫậăằắẳẵặèéẻẽẹêềếểễệđìíỉĩịòóỏõọôồốổỗộơờớởỡợùúủũụưừứửữựỳýỷỹỵÀÁẢÃẠÂẦẤẨẪẬĂẰẮẲẴẶÈÉẺẼẸÊỀẾỂỄỆĐÌÍỈĨỊÒÓỎÕỌÔỒỐỔỖỘƠỜỚỞỠỢÙÚỦŨỤƯỪỨỬỮỰỲÝỶỸỴÂĂĐÔƠƯ\"\n",
    "    unsignChars = \"aaaaaaaaaaaaaaaaaeeeeeeeeeeediiiiiooooooooooooooooouuuuuuuuuuuyyyyyAAAAAAAAAAAAAAAAAEEEEEEEEEEEDIIIOOOOOOOOOOOOOOOOOOOUUUUUUUUUUUYYYYYAADOOU\"\n",
    "\n",
    "    dic = {}\n",
    "    char1252 = 'à|á|ả|ã|ạ|ầ|ấ|ẩ|ẫ|ậ|ằ|ắ|ẳ|ẵ|ặ|è|é|ẻ|ẽ|ẹ|ề|ế|ể|ễ|ệ|ì|í|ỉ|ĩ|ị|ò|ó|ỏ|õ|ọ|ồ|ố|ổ|ỗ|ộ|ờ|ớ|ở|ỡ|ợ|ù|ú|ủ|ũ|ụ|ừ|ứ|ử|ữ|ự|ỳ|ý|ỷ|ỹ|ỵ|À|Á|Ả|Ã|Ạ|Ầ|Ấ|Ẩ|Ẫ|Ậ|Ằ|Ắ|Ẳ|Ẵ|Ặ|È|É|Ẻ|Ẽ|Ẹ|Ề|Ế|Ể|Ễ|Ệ|Ì|Í|Ỉ|Ĩ|Ị|Ò|Ó|Ỏ|Õ|Ọ|Ồ|Ố|Ổ|Ỗ|Ộ|Ờ|Ớ|Ở|Ỡ|Ợ|Ù|Ú|Ủ|Ũ|Ụ|Ừ|Ứ|Ử|Ữ|Ự|Ỳ|Ý|Ỷ|Ỹ|Ỵ'.split(\n",
    "        '|')\n",
    "    charutf8 = \"à|á|ả|ã|ạ|ầ|ấ|ẩ|ẫ|ậ|ằ|ắ|ẳ|ẵ|ặ|è|é|ẻ|ẽ|ẹ|ề|ế|ể|ễ|ệ|ì|í|ỉ|ĩ|ị|ò|ó|ỏ|õ|ọ|ồ|ố|ổ|ỗ|ộ|ờ|ớ|ở|ỡ|ợ|ù|ú|ủ|ũ|ụ|ừ|ứ|ử|ữ|ự|ỳ|ý|ỷ|ỹ|ỵ|À|Á|Ả|Ã|Ạ|Ầ|Ấ|Ẩ|Ẫ|Ậ|Ằ|Ắ|Ẳ|Ẵ|Ặ|È|É|Ẻ|Ẽ|Ẹ|Ề|Ế|Ể|Ễ|Ệ|Ì|Í|Ỉ|Ĩ|Ị|Ò|Ó|Ỏ|Õ|Ọ|Ồ|Ố|Ổ|Ỗ|Ộ|Ờ|Ớ|Ở|Ỡ|Ợ|Ù|Ú|Ủ|Ũ|Ụ|Ừ|Ứ|Ử|Ữ|Ự|Ỳ|Ý|Ỷ|Ỹ|Ỵ\".split(\n",
    "        '|')\n",
    "    for i in range(len(char1252)):\n",
    "        dic[char1252[i]] = charutf8[i]\n",
    "    return dic\n",
    "\n",
    "# Đưa toàn bộ dữ liệu qua hàm này để chuẩn hóa lại\n",
    "def covert_unicode(txt):\n",
    "    dicchar = loaddicchar()\n",
    "    return regex.sub(\n",
    "        r'à|á|ả|ã|ạ|ầ|ấ|ẩ|ẫ|ậ|ằ|ắ|ẳ|ẵ|ặ|è|é|ẻ|ẽ|ẹ|ề|ế|ể|ễ|ệ|ì|í|ỉ|ĩ|ị|ò|ó|ỏ|õ|ọ|ồ|ố|ổ|ỗ|ộ|ờ|ớ|ở|ỡ|ợ|ù|ú|ủ|ũ|ụ|ừ|ứ|ử|ữ|ự|ỳ|ý|ỷ|ỹ|ỵ|À|Á|Ả|Ã|Ạ|Ầ|Ấ|Ẩ|Ẫ|Ậ|Ằ|Ắ|Ẳ|Ẵ|Ặ|È|É|Ẻ|Ẽ|Ẹ|Ề|Ế|Ể|Ễ|Ệ|Ì|Í|Ỉ|Ĩ|Ị|Ò|Ó|Ỏ|Õ|Ọ|Ồ|Ố|Ổ|Ỗ|Ộ|Ờ|Ớ|Ở|Ỡ|Ợ|Ù|Ú|Ủ|Ũ|Ụ|Ừ|Ứ|Ử|Ữ|Ự|Ỳ|Ý|Ỷ|Ỹ|Ỵ',\n",
    "        lambda x: dicchar[x.group()], txt)"
   ]
  },
  {
   "cell_type": "code",
   "execution_count": 17,
   "metadata": {
    "colab": {
     "base_uri": "https://localhost:8080/",
     "height": 35
    },
    "id": "c2SBoMAEyr60",
    "outputId": "0d8d1f3b-db44-4dfd-a8ed-dd0cf394311e"
   },
   "outputs": [
    {
     "data": {
      "text/plain": [
       "'sản phẩm dầu gội này thật sự kém chất lượng tức. mùi hương không dễ chịu như quảng cáo còn gây khô tóc nữa. chánnnnn. mình dùng được vài lần là thấy tóc xơ mất nếp sẽ không lại. buồn.'"
      ]
     },
     "execution_count": 17,
     "metadata": {},
     "output_type": "execute_result"
    }
   ],
   "source": [
    "document = covert_unicode(document)\n",
    "document"
   ]
  },
  {
   "cell_type": "code",
   "execution_count": 18,
   "metadata": {
    "id": "auHk1SStyr61"
   },
   "outputs": [],
   "source": [
    "def process_special_word(text):\n",
    "    # có thể có nhiều từ đặc biệt cần ráp lại với nhau\n",
    "    new_text = ''\n",
    "    text_lst = text.split()\n",
    "    i= 0\n",
    "    # không, chẳng, chả...\n",
    "    if 'không' in text_lst:\n",
    "        while i <= len(text_lst) - 1:\n",
    "            word = text_lst[i]\n",
    "            #print(word)\n",
    "            #print(i)\n",
    "            if  word == 'không':\n",
    "                next_idx = i+1\n",
    "                if next_idx <= len(text_lst) -1:\n",
    "                    word = word +'_'+ text_lst[next_idx]\n",
    "                i= next_idx + 1\n",
    "            else:\n",
    "                i = i+1\n",
    "            new_text = new_text + word + ' '\n",
    "    else:\n",
    "        new_text = text\n",
    "    return new_text.strip()"
   ]
  },
  {
   "cell_type": "code",
   "execution_count": 19,
   "metadata": {
    "colab": {
     "base_uri": "https://localhost:8080/",
     "height": 35
    },
    "id": "rAZw23-tyr61",
    "outputId": "fc42f804-a1c8-4390-de41-519fbfb1f861"
   },
   "outputs": [
    {
     "data": {
      "text/plain": [
       "'sản phẩm dầu gội này thật sự kém chất lượng tức. mùi hương không_dễ chịu như quảng cáo còn gây khô tóc nữa. chánnnnn. mình dùng được vài lần là thấy tóc xơ mất nếp sẽ không_lại. buồn.'"
      ]
     },
     "execution_count": 19,
     "metadata": {},
     "output_type": "execute_result"
    }
   ],
   "source": [
    "x = process_special_word(document)\n",
    "x"
   ]
  },
  {
   "cell_type": "code",
   "execution_count": 20,
   "metadata": {
    "id": "gq6q_AkInTO1"
   },
   "outputs": [],
   "source": [
    "import re\n",
    "# Hàm để chuẩn hóa các từ có ký tự lặp\n",
    "def normalize_repeated_characters(text):\n",
    "    # Thay thế mọi ký tự lặp liên tiếp bằng một ký tự đó\n",
    "    # Ví dụ: \"lònggggg\" thành \"lòng\", \"thiệtttt\" thành \"thiệt\"\n",
    "    return re.sub(r'(.)\\1+', r'\\1', text)\n",
    "\n",
    "# Áp dụng hàm chuẩn hóa cho văn bản\n",
    "# print(normalize_repeated_characters(example))"
   ]
  },
  {
   "cell_type": "code",
   "execution_count": 21,
   "metadata": {
    "colab": {
     "base_uri": "https://localhost:8080/"
    },
    "id": "-TXL9-vLoVBN",
    "outputId": "9d900f2c-204a-47a5-dd85-a495f6d24c38"
   },
   "outputs": [
    {
     "name": "stdout",
     "output_type": "stream",
     "text": [
      "sản phẩm dầu gội này thật sự kém chất lượng tức. mùi hương không dễ chịu như quảng cáo còn gây khô tóc nữa. chán. mình dùng được vài lần là thấy tóc xơ mất nếp sẽ không lại. buồn.\n"
     ]
    }
   ],
   "source": [
    "document = normalize_repeated_characters(document)\n",
    "print(document)"
   ]
  },
  {
   "cell_type": "code",
   "execution_count": 22,
   "metadata": {
    "id": "EFuQF1gMyr62"
   },
   "outputs": [],
   "source": [
    "def process_postag_thesea(text):\n",
    "    new_document = ''\n",
    "    for sentence in sent_tokenize(text):\n",
    "        sentence = sentence.replace('.','')\n",
    "        ###### POS tag\n",
    "        lst_word_type = ['N','Np','A','AB','V','VB','VY','R']\n",
    "        # lst_word_type = ['A','AB','V','VB','VY','R']\n",
    "        sentence = ' '.join( word[0] if word[1].upper() in lst_word_type else '' for word in pos_tag(process_special_word(word_tokenize(sentence, format=\"text\"))))\n",
    "        new_document = new_document + sentence + ' '\n",
    "    ###### DEL excess blank space\n",
    "    new_document = regex.sub(r'\\s+', ' ', new_document).strip()\n",
    "    return new_document"
   ]
  },
  {
   "cell_type": "code",
   "execution_count": 23,
   "metadata": {
    "id": "0GXjo_K3yr62"
   },
   "outputs": [],
   "source": [
    "document = process_postag_thesea(document)"
   ]
  },
  {
   "cell_type": "code",
   "execution_count": 24,
   "metadata": {
    "colab": {
     "base_uri": "https://localhost:8080/",
     "height": 35
    },
    "id": "XUJVSL9Hyr62",
    "outputId": "80d93799-6adc-4305-d4a5-5ffc41a649f1"
   },
   "outputs": [
    {
     "data": {
      "text/plain": [
       "'sản_phẩm dầu_gội thật_sự kém chất_lượng mùi hương không_dễ_chịu quảng_cáo còn gây khô_tóc nữa dùng được lần là thấy tóc xơ mất nếp sẽ không_lại buồn'"
      ]
     },
     "execution_count": 24,
     "metadata": {},
     "output_type": "execute_result"
    }
   ],
   "source": [
    "document"
   ]
  },
  {
   "cell_type": "code",
   "execution_count": 25,
   "metadata": {
    "id": "oSX3s05Zyr62"
   },
   "outputs": [],
   "source": [
    "def remove_stopword(text, stopwords):\n",
    "    ###### REMOVE stop words\n",
    "    document = ' '.join('' if word in stopwords else word for word in text.split())\n",
    "    #print(document)\n",
    "    ###### DEL excess blank space\n",
    "    document = regex.sub(r'\\s+', ' ', document).strip()\n",
    "    return document"
   ]
  },
  {
   "cell_type": "code",
   "execution_count": 26,
   "metadata": {
    "colab": {
     "base_uri": "https://localhost:8080/",
     "height": 35
    },
    "id": "jeW5FUUryr62",
    "outputId": "8161fc8b-0679-457b-e7b3-7409961342a9"
   },
   "outputs": [
    {
     "data": {
      "text/plain": [
       "'sản_phẩm dầu_gội kém chất_lượng mùi hương không_dễ_chịu quảng_cáo khô_tóc tóc xơ nếp không_lại buồn'"
      ]
     },
     "execution_count": 26,
     "metadata": {},
     "output_type": "execute_result"
    }
   ],
   "source": [
    "document = remove_stopword(document, stopwords_lst)\n",
    "document"
   ]
  },
  {
   "cell_type": "markdown",
   "metadata": {
    "id": "ojRtRJSx8CZD"
   },
   "source": [
    "## Tạo thêm các cột mới dựa trên việc đếm từ/icon positive và negative\n",
    "- Tạo danh sách các từ positive -> lưu vào file positive_VN.txt (mỗi từ trên 1 dòng)\n",
    "- Tạo danh sách các từ negative -> lưu vào file negative_VN.txt (mỗi từ trên 1 dòng)\n",
    "- Tạo danh sách các positve emojis -> lưu vào file positive_emoji.txt (mỗi icon trên 1 dòng)\n",
    "- Tạo danh sách các negative emojis -> lưu vào file negative_emoji.txt (mỗi icon trên 1 dòng)\n",
    "- Đọc vào các list tương ứng\n",
    "- Viết function để đọc 1 chuỗi -> đếm số lượng positive words/ emojis hoặc  negative words/ ememojis, danh sách từ kết quả\n",
    "- Tạo ra 2 cột mới cho dataframe: negative_count/ positive_count\n",
    "- ..."
   ]
  },
  {
   "cell_type": "code",
   "execution_count": 27,
   "metadata": {
    "id": "fl9Jse0l9buR"
   },
   "outputs": [],
   "source": [
    "positive_words = [\n",
    "    \"thích\", \"tốt\", \"xuất sắc\", \"tuyệt vời\", \"ổn\",\n",
    "    \"hài lòng\", \"ưng ý\", \"hoàn hảo\", \"chất lượng\", \"nhanh\",\n",
    "    \"tiện lợi\", \"dễ sử dụng\", \"hiệu quả\", \"ấn tượng\",\n",
    "    \"nổi bật\", \"thân thiện\",\n",
    "    \"cao cấp\", \"độc đáo\", \"rất tốt\", \"rất thích\", \"tận tâm\", \"đáng tin cậy\", \"đẳng cấp\",\n",
    "    \"hấp dẫn\", \"an tâm\", \"thúc đẩy\", \"cảm động\", \"phục vụ tốt\", \"làm hài lòng\", \"gây ấn tượng\", \"nổi trội\",\n",
    "    \"sáng tạo\", \"phù hợp\", \"tận tâm\", \"hiếm có\", \"cải thiện\", \"hoà nhã\", \"chăm chỉ\", \"cẩn thận\",\n",
    "    \"vui vẻ\", \"sáng sủa\", \"hào hứng\", \"đam mê\", \"vừa vặn\", \"đáng tiền\"\n",
    "]"
   ]
  },
  {
   "cell_type": "code",
   "execution_count": 28,
   "metadata": {
    "colab": {
     "base_uri": "https://localhost:8080/"
    },
    "id": "U1qEeyJv9tf4",
    "outputId": "0f732f4d-0837-4d5d-a2b1-d379794bcf42"
   },
   "outputs": [
    {
     "data": {
      "text/plain": [
       "45"
      ]
     },
     "execution_count": 28,
     "metadata": {},
     "output_type": "execute_result"
    }
   ],
   "source": [
    "len(positive_words)"
   ]
  },
  {
   "cell_type": "code",
   "execution_count": 29,
   "metadata": {
    "id": "lQLgtqZv9Ye5"
   },
   "outputs": [],
   "source": [
    "negative_words = [\n",
    "    \"kém\", \"tệ\", \"buồn\", \"chán\", \"không dễ chịu\", \"không chất lượng\"\n",
    "    \"kém chất lượng\", \"không thích\", \"không ổn\",\n",
    "    \"không hợp\", \"không đáng tin cậy\", \"không chuyên nghiệp\",\n",
    "    \"không phản hồi\", \"không an toàn\", \"không phù hợp\", \"không thân thiện\", \"không linh hoạt\", \"không đáng giá\",\n",
    "    \"không ấn tượng\", \"không tốt\", \"chậm\", \"khó khăn\", \"phức tạp\",\n",
    "    \"khó chịu\", \"gây khó dễ\", \"rườm rà\", \"thất bại\", \"tồi tệ\", \"khó xử\", \"không thể chấp nhận\", \"tồi tệ\",\"không rõ ràng\",\n",
    "    \"không chắc chắn\", \"rối rắm\", \"không tiện lợi\", \"không đáng tiền\",\n",
    "    'không hài lòng', 'không đáng', 'quá tệ', 'rất tệ',\n",
    "    'thất vọng', 'chán', 'tệ hại', 'kinh khủng', 'không ưng ý'\n",
    "]"
   ]
  },
  {
   "cell_type": "code",
   "execution_count": 30,
   "metadata": {
    "colab": {
     "base_uri": "https://localhost:8080/"
    },
    "id": "Heg5npFz-ZvZ",
    "outputId": "c68fbd81-a11b-437d-f5fc-531eac107426"
   },
   "outputs": [
    {
     "data": {
      "text/plain": [
       "44"
      ]
     },
     "execution_count": 30,
     "metadata": {},
     "output_type": "execute_result"
    }
   ],
   "source": [
    "len(negative_words)"
   ]
  },
  {
   "cell_type": "code",
   "execution_count": 31,
   "metadata": {
    "id": "Z4utzELqC-nH"
   },
   "outputs": [],
   "source": [
    "def find_words(document, list_of_words):\n",
    "    document_lower = document.lower()\n",
    "    word_count = 0\n",
    "    word_list = []\n",
    "\n",
    "    for word in list_of_words:\n",
    "        if word in document_lower:\n",
    "            print(word)\n",
    "            word_count += document_lower.count(word)\n",
    "            word_list.append(word)\n",
    "\n",
    "    return word_count, word_list"
   ]
  },
  {
   "cell_type": "code",
   "execution_count": 32,
   "metadata": {
    "id": "Jvdna0CqDqKH"
   },
   "outputs": [],
   "source": [
    "# Example usage\n",
    "document = '''Sp dầu gội này thật sự kém chất lượng 😤. Mùi hương ko dễ chịu như quảng cáo, còn gây khô tóc nữa. Chánnnnn. Mình dùng đc vài lần là thấy tóc xơ, mất nếp, sẽ ko mua lại! ☹️'''"
   ]
  },
  {
   "cell_type": "code",
   "execution_count": 33,
   "metadata": {
    "id": "OtIls6Vmk8vn"
   },
   "outputs": [],
   "source": [
    "document = normalize_repeated_characters(document)"
   ]
  },
  {
   "cell_type": "code",
   "execution_count": 34,
   "metadata": {
    "colab": {
     "base_uri": "https://localhost:8080/"
    },
    "id": "cBq8PMssBvvB",
    "outputId": "5004126d-f500-443a-ab6b-6e07e61e5b3c"
   },
   "outputs": [
    {
     "name": "stdout",
     "output_type": "stream",
     "text": [
      "chất lượng\n",
      "Number of positive words: 1\n",
      "List of positive words: ['chất lượng']\n"
     ]
    }
   ],
   "source": [
    "positive_count, positive_word_list = find_words(document, positive_words)\n",
    "\n",
    "print(\"Number of positive words:\", positive_count)\n",
    "print(\"List of positive words:\", positive_word_list)"
   ]
  },
  {
   "cell_type": "code",
   "execution_count": 35,
   "metadata": {
    "colab": {
     "base_uri": "https://localhost:8080/"
    },
    "id": "V2KBSVoNDRbe",
    "outputId": "d7a2c8e3-74e8-44db-9f65-25af04030c4d"
   },
   "outputs": [
    {
     "name": "stdout",
     "output_type": "stream",
     "text": [
      "kém\n",
      "chán\n",
      "chán\n",
      "Number of negative words: 3\n",
      "List of negative words: ['kém', 'chán', 'chán']\n"
     ]
    }
   ],
   "source": [
    "negative_count, negative_word_list = find_words(document, negative_words)\n",
    "\n",
    "print(\"Number of negative words:\", negative_count)\n",
    "print(\"List of negative words:\", negative_word_list)"
   ]
  },
  {
   "cell_type": "code",
   "execution_count": 36,
   "metadata": {
    "id": "nBYIj19XFJkH"
   },
   "outputs": [],
   "source": [
    "# Count emojis positive and negative\n",
    "negative_emojis = [\n",
    "    \"😞\", \"😔\", \"🙁\", \"☹️\", \"😕\",\n",
    "    \"😢\", \"😭\", \"😖\", \"😣\", \"😩\",\n",
    "    \"😠\", \"😡\", \"🤬\", \"😤\", \"😰\",\n",
    "    \"😨\", \"😱\", \"😪\", \"😓\", \"🥺\",\n",
    "    \"😒\", \"🙄\", \"😑\", \"😬\", \"😶\",\n",
    "    \"🤯\", \"😳\", \"🤢\", \"🤮\", \"🤕\",\n",
    "    \"🥴\", \"🤔\", \"😷\", \"🙅‍♂️\", \"🙅‍♀️\",\n",
    "    \"🙆‍♂️\", \"🙆‍♀️\", \"🙇‍♂️\", \"🙇‍♀️\", \"🤦‍♂️\",\n",
    "    \"🤦‍♀️\", \"🤷‍♂️\", \"🤷‍♀️\", \"🤢\", \"🤧\",\n",
    "    \"🤨\", \"🤫\", \"👎\", \"👊\", \"✊\", \"🤛\", \"🤜\",\n",
    "    \"🤚\", \"🖕\"\n",
    "]"
   ]
  },
  {
   "cell_type": "code",
   "execution_count": 37,
   "metadata": {
    "colab": {
     "base_uri": "https://localhost:8080/"
    },
    "id": "KmFhyhI9FkfG",
    "outputId": "61a7f88e-dde8-47af-dafa-04c9a33a405a"
   },
   "outputs": [
    {
     "data": {
      "text/plain": [
       "54"
      ]
     },
     "execution_count": 37,
     "metadata": {},
     "output_type": "execute_result"
    }
   ],
   "source": [
    "len(negative_emojis)"
   ]
  },
  {
   "cell_type": "code",
   "execution_count": 38,
   "metadata": {
    "id": "CrCv5JJVGSi3"
   },
   "outputs": [],
   "source": [
    "positive_emojis = [\n",
    "    \"😄\", \"😃\", \"😀\", \"😁\", \"😆\",\n",
    "    \"😅\", \"🤣\", \"😂\", \"🙂\", \"🙃\",\n",
    "    \"😉\", \"😊\", \"😇\", \"🥰\", \"😍\",\n",
    "    \"🤩\", \"😘\", \"😗\", \"😚\", \"😙\",\n",
    "    \"😋\", \"😛\", \"😜\", \"🤪\", \"😝\",\n",
    "    \"🤗\", \"🤭\", \"🥳\", \"😌\", \"😎\",\n",
    "    \"🤓\", \"🧐\", \"👍\", \"🤝\", \"🙌\", \"👏\", \"👋\",\n",
    "    \"🤙\", \"✋\", \"🖐️\", \"👌\", \"🤞\",\n",
    "    \"✌️\", \"🤟\", \"👈\", \"👉\", \"👆\",\n",
    "    \"👇\", \"☝️\", \"💚\", \"💖\"\n",
    "]"
   ]
  },
  {
   "cell_type": "code",
   "execution_count": 39,
   "metadata": {
    "colab": {
     "base_uri": "https://localhost:8080/"
    },
    "id": "HFpBmaweHU-9",
    "outputId": "0d6c6825-ec77-4d61-ec30-1834b9805b4d"
   },
   "outputs": [
    {
     "data": {
      "text/plain": [
       "51"
      ]
     },
     "execution_count": 39,
     "metadata": {},
     "output_type": "execute_result"
    }
   ],
   "source": [
    "len(positive_emojis)"
   ]
  },
  {
   "cell_type": "code",
   "execution_count": 40,
   "metadata": {
    "colab": {
     "base_uri": "https://localhost:8080/"
    },
    "id": "1vgbtg5rFjn4",
    "outputId": "ea35f4f6-df95-40bd-fe28-7dc264b6529d"
   },
   "outputs": [
    {
     "name": "stdout",
     "output_type": "stream",
     "text": [
      "Number of positive icons: 0\n",
      "List of positive icons: []\n"
     ]
    }
   ],
   "source": [
    "positive_icon, positive_icon_list = find_words(document, positive_emojis)\n",
    "\n",
    "print(\"Number of positive icons:\", positive_icon)\n",
    "print(\"List of positive icons:\", positive_icon_list)"
   ]
  },
  {
   "cell_type": "code",
   "execution_count": 41,
   "metadata": {
    "colab": {
     "base_uri": "https://localhost:8080/"
    },
    "id": "wj3IGYyOFVU3",
    "outputId": "e12c1455-90ec-4793-e954-9e4b1114dcb9"
   },
   "outputs": [
    {
     "name": "stdout",
     "output_type": "stream",
     "text": [
      "☹️\n",
      "😤\n",
      "Number of negative words: 2\n",
      "List of negative words: ['☹️', '😤']\n"
     ]
    }
   ],
   "source": [
    "negative_icon, negative_icon_list = find_words(document, negative_emojis)\n",
    "\n",
    "print(\"Number of negative words:\", negative_icon)\n",
    "print(\"List of negative words:\", negative_icon_list)"
   ]
  },
  {
   "cell_type": "code",
   "execution_count": 42,
   "metadata": {
    "id": "wC_5cnKdlVcC"
   },
   "outputs": [],
   "source": [
    "document_1 = '''Kem dưỡng trắng da này xài thích lắm luôn 💖. Sau 1 tg ngắn, da mình trông sáng hẳn, mịn màng mà ko bị nhờn rít.\n",
    "                Sp thấm nhanh, rất phù hợp cho da dầu và hỗn hợp. Đặc biệt là giá cả hợp lý so với chất lượng, sẽ mua lại chắc chắn! 😍'''"
   ]
  },
  {
   "cell_type": "code",
   "execution_count": 43,
   "metadata": {
    "colab": {
     "base_uri": "https://localhost:8080/"
    },
    "id": "AqH3K1uUlxmU",
    "outputId": "45dfa79a-872c-4a9f-f243-899ae66fca5a"
   },
   "outputs": [
    {
     "name": "stdout",
     "output_type": "stream",
     "text": [
      "thích\n",
      "chất lượng\n",
      "nhanh\n",
      "phù hợp\n",
      "Number of positive words: 4\n",
      "List of positive words: ['thích', 'chất lượng', 'nhanh', 'phù hợp']\n"
     ]
    }
   ],
   "source": [
    "positive_count, positive_word_list = find_words(document_1, positive_words)\n",
    "\n",
    "print(\"Number of positive words:\", positive_count)\n",
    "print(\"List of positive words:\", positive_word_list)"
   ]
  },
  {
   "cell_type": "code",
   "execution_count": 44,
   "metadata": {
    "colab": {
     "base_uri": "https://localhost:8080/"
    },
    "id": "dnpdnIDml1cz",
    "outputId": "9b4f11f3-f5ec-40cc-a7bd-be213879b1cf"
   },
   "outputs": [
    {
     "name": "stdout",
     "output_type": "stream",
     "text": [
      "Number of negative words: 0\n",
      "List of negative words: []\n"
     ]
    }
   ],
   "source": [
    "negative_count, negative_word_list = find_words(document_1, negative_words)\n",
    "\n",
    "print(\"Number of negative words:\", negative_count)\n",
    "print(\"List of negative words:\", negative_word_list)"
   ]
  },
  {
   "cell_type": "code",
   "execution_count": 45,
   "metadata": {
    "colab": {
     "base_uri": "https://localhost:8080/"
    },
    "id": "Cr0Xk5BqmIGh",
    "outputId": "ce6b00d6-c963-496d-e8f4-9ab041e400ce"
   },
   "outputs": [
    {
     "name": "stdout",
     "output_type": "stream",
     "text": [
      "😍\n",
      "💖\n",
      "Number of positive icons: 2\n",
      "List of positive icons: ['😍', '💖']\n"
     ]
    }
   ],
   "source": [
    "positive_icon, positive_icon_list = find_words(document_1, positive_emojis)\n",
    "\n",
    "print(\"Number of positive icons:\", positive_icon)\n",
    "print(\"List of positive icons:\", positive_icon_list)"
   ]
  },
  {
   "cell_type": "code",
   "execution_count": 46,
   "metadata": {
    "colab": {
     "base_uri": "https://localhost:8080/"
    },
    "id": "qcSIkuuVmMEo",
    "outputId": "aa2d749a-e86c-4ada-a692-a4293ef259b0"
   },
   "outputs": [
    {
     "name": "stdout",
     "output_type": "stream",
     "text": [
      "Number of negative words: 0\n",
      "List of negative words: []\n"
     ]
    }
   ],
   "source": [
    "negative_icon, negative_icon_list = find_words(document_1, negative_emojis)\n",
    "\n",
    "print(\"Number of negative words:\", negative_icon)\n",
    "print(\"List of negative words:\", negative_icon_list)"
   ]
  },
  {
   "cell_type": "code",
   "execution_count": null,
   "metadata": {
    "id": "kb4DM5GRmJ-3"
   },
   "outputs": [],
   "source": []
  }
 ],
 "metadata": {
  "colab": {
   "provenance": []
  },
  "kernelspec": {
   "display_name": "Python 3",
   "language": "python",
   "name": "python3"
  },
  "language_info": {
   "codemirror_mode": {
    "name": "ipython",
    "version": 3
   },
   "file_extension": ".py",
   "mimetype": "text/x-python",
   "name": "python",
   "nbconvert_exporter": "python",
   "pygments_lexer": "ipython3",
   "version": "3.10.11"
  }
 },
 "nbformat": 4,
 "nbformat_minor": 0
}
